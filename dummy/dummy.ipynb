{
 "cells": [
  {
   "cell_type": "code",
   "execution_count": 1,
   "id": "ce75f2fe-2a74-4a06-939a-253010fb1b81",
   "metadata": {},
   "outputs": [],
   "source": [
    "import json\n",
    "import spacy\n",
    "from spacy.tokens import DocBin\n",
    "from pathlib import Path\n",
    "\n",
    "# Load data from dummy/admin.jsonl\n",
    "data_path = Path(\"admin.jsonl\")\n",
    "with open(data_path, \"r\") as f:\n",
    "    data = [json.loads(line) for line in f]\n",
    "\n",
    "# Lowercase all text\n",
    "for example in data:\n",
    "    example[\"text\"] = example[\"text\"].lower()"
   ]
  },
  {
   "cell_type": "code",
   "execution_count": 2,
   "id": "8285f3be-6245-40ab-bfdd-89e5d98861bb",
   "metadata": {},
   "outputs": [
    {
     "name": "stdout",
     "output_type": "stream",
     "text": [
      "Saved training data to train.spacy\n"
     ]
    }
   ],
   "source": [
    "# Create a blank English NLP pipeline and add NER\n",
    "nlp = spacy.blank(\"en\")\n",
    "ner = nlp.add_pipe(\"ner\")\n",
    "\n",
    "# Add all labels to the NER component\n",
    "for example in data:\n",
    "    for start, end, label in example[\"label\"]:\n",
    "        ner.add_label(label)\n",
    "\n",
    "# Convert examples to Doc objects with annotated entities\n",
    "doc_bin = DocBin()\n",
    "for example in data:\n",
    "    doc = nlp.make_doc(example[\"text\"])\n",
    "    ents = []\n",
    "    for start, end, label in example[\"label\"]:\n",
    "        span = doc.char_span(start, end, label=label)\n",
    "        if span:\n",
    "            ents.append(span)\n",
    "    doc.ents = ents\n",
    "    doc_bin.add(doc)\n",
    "\n",
    "# Save to .spacy file\n",
    "output_path = Path(\"train.spacy\")\n",
    "doc_bin.to_disk(output_path)\n",
    "print(f\"Saved training data to {output_path}\")"
   ]
  },
  {
   "cell_type": "code",
   "execution_count": null,
   "id": "b3440bc3-49f5-472f-af2e-a78ee626826f",
   "metadata": {},
   "outputs": [],
   "source": [
    "# Run spaCy training using your existing config\n",
    "!python -m spacy train config.cfg --output dummy_models/env_ner"
   ]
  },
  {
   "cell_type": "code",
   "execution_count": 13,
   "id": "78957742-4cf0-4795-878b-a67c0db189fe",
   "metadata": {},
   "outputs": [
    {
     "name": "stdout",
     "output_type": "stream",
     "text": [
      "\n",
      "Text: Florentis is a resilient species found in alpine meadows.\n",
      "Entities: []\n",
      "\n",
      "Text: The team discovered Graviton nesting near the glacier edge.\n",
      "Entities: []\n",
      "\n",
      "Text: Researchers recorded growth patterns of Luroxis in volcanic soils.\n",
      "Entities: []\n",
      "\n",
      "Text: Veltara was identified as a pioneer organism in the post-fire zone.\n",
      "Entities: []\n",
      "\n",
      "Text: Micranta thrives in nutrient-poor tundra slopes and resists wind erosion.\n",
      "Entities: []\n",
      "\n",
      "Text: Samples of Zarna were stored at −20°C for analysis.\n",
      "Entities: [('zarna', 'TAXONOMY')]\n",
      "\n",
      "Text: Lion was misclassified in earlier taxonomy records.\n",
      "Entities: []\n"
     ]
    }
   ],
   "source": [
    "# Load your trained model\n",
    "nlp = spacy.load(\"./dummy_models/env_ner/model-best\")\n",
    "texts = [\n",
    "    \"Florentis is a resilient species found in alpine meadows.\",\n",
    "    \"The team discovered Graviton nesting near the glacier edge.\",\n",
    "    \"Researchers recorded growth patterns of Luroxis in volcanic soils.\",\n",
    "    \"Veltara was identified as a pioneer organism in the post-fire zone.\",\n",
    "    \"Micranta thrives in nutrient-poor tundra slopes and resists wind erosion.\",\n",
    "    \"Samples of Zarna were stored at −20°C for analysis.\",\n",
    "    \"Lion was misclassified in earlier taxonomy records.\"\n",
    "]\n",
    "\n",
    "for text in texts:\n",
    "    doc = nlp(text.lower())\n",
    "    print(f\"\\nText: {text}\")\n",
    "    print(\"Entities:\", [(ent.text, ent.label_) for ent in doc.ents])\n"
   ]
  },
  {
   "cell_type": "code",
   "execution_count": null,
   "id": "571fe668-12a5-4fa6-aa6f-3be7513a1325",
   "metadata": {},
   "outputs": [],
   "source": []
  }
 ],
 "metadata": {
  "kernelspec": {
   "display_name": "Python 3 (ipykernel)",
   "language": "python",
   "name": "python3"
  },
  "language_info": {
   "codemirror_mode": {
    "name": "ipython",
    "version": 3
   },
   "file_extension": ".py",
   "mimetype": "text/x-python",
   "name": "python",
   "nbconvert_exporter": "python",
   "pygments_lexer": "ipython3",
   "version": "3.12.3"
  }
 },
 "nbformat": 4,
 "nbformat_minor": 5
}
