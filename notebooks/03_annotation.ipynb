{
 "cells": [
  {
   "cell_type": "markdown",
   "id": "c61aa59d-49b0-41cb-bfa5-733997ae81f9",
   "metadata": {},
   "source": [
    "# Automatic Annotation of Environmental Sentences\n",
    "\n",
    "## 1. Introduction\n",
    "\n",
    "### 1.1 Background and Purpose\n",
    "\n",
    "This notebook applies a rule-based method to annotate environmental text with named entities. It is the third stage in a pipeline for building a domain-specific Named Entity Recognition (NER) dataset. Earlier stages involved sentence segmentation and vocabulary construction.\n",
    "\n",
    "The goal here is to automatically assign entity labels to pre-segmented sentences using curated vocabulary lists. Each vocabulary term is matched directly in text, and the matching span is annotated with its corresponding category. This produces a labelled dataset that can be used to train NER models.\n",
    "\n",
    "The method prioritises speed, scale, and reproducibility. It requires no manual annotation or machine learning during this stage.\n",
    "\n",
    "### 1.2 Objectives\n",
    "\n",
    "The main objectives of this notebook are:\n",
    "\n",
    "- Apply each vocabulary category (TAXONOMY, HABITAT, ENV_PROCESS, POLLUTANT, MEASUREMENT) to a large sentence corpus\n",
    "- Construct an Aho-Corasick trie per category for efficient multi-pattern matching\n",
    "- Handle overlapping and nested matches through precedence and merging rules\n",
    "- Apply custom logic for MEASUREMENT entities, ensuring numbers and units are annotated together\n",
    "- Generate output in a SpaCy-compatible .jsonl format for model training\n",
    "- Validate annotations using programmatic checks and spot-checking of random samples\n",
    "\n",
    "### 1.3 Challenges in Rule-Based Annotation\n",
    "\n",
    "Rule-based annotation offers simplicity and transparency but presents several challenges that must be addressed carefully:\n",
    "\n",
    "**Overlapping entities across categories**  \n",
    "Certain terms may appear in multiple categories or as part of longer expressions. For example, the word \"forest\" may be listed as a HABITAT but also occur in the species name \"African forest elephant\" (TAXONOMY). Overlapping matches must be resolved by choosing the longest span or prioritising specific categories.\n",
    "\n",
    "**Lack of context awareness**  \n",
    "Exact term matching does not account for semantic context. This can result in false positives where a term has different meanings (e.g. “Amazon” referring to a company vs. a rainforest).\n",
    "\n",
    "**Span boundaries and formatting**  \n",
    "Care must be taken to ensure that only the correct characters are included in each entity span. Matches must be aligned to full words and should not include punctuation, whitespace, or extraneous tokens.\n",
    "\n",
    "**Special treatment for measurement expressions**  \n",
    "Measurement entities such as “20 kg” or “<10 µg/L” require combined annotation of numbers and units. These must be identified and merged into single spans even when not contiguous in the vocabulary list.\n",
    "\n",
    "**Vocabulary coverage and noise**  \n",
    "Some terms may not be present in the vocabulary and will be missed. Others may be too generic and match unintended text. This stage must balance recall with precision and include mechanisms for iterative refinement of the vocab lists."
   ]
  },
  {
   "cell_type": "markdown",
   "id": "c79eadc0-8c7b-4732-b8fa-10b82a855104",
   "metadata": {},
   "source": [
    "## 2. Method Overview\n",
    "\n",
    "### 2.1 What Is Aho-Corasick Matching?\n",
    "The Aho-Corasick algorithm is a fast and efficient method for matching many string patterns at once. It builds a data structure called a trie, which allows it to search for all vocabulary terms in a sentence in a single pass.\n",
    "\n",
    "This makes it well-suited for Named Entity Recognition tasks where the goal is to find known phrases (e.g. \"climate change\", \"acid rain\") across a large body of text. Unlike regular expressions or repeated substring searches, Aho-Corasick performs in linear time with respect to the input length.\n",
    "\n",
    "In this notebook, one Aho-Corasick matcher is created for each entity category (e.g. TAXONOMY, HABITAT). Each match includes the matched text, its character span, and its associated category label.\n",
    "\n",
    "### 2.2 Why Weak Labelling?\n",
    "Weak labelling refers to the automatic assignment of labels using predefined rules or resources, rather than manual annotation. In this case, the labels are derived from vocabulary lists matched against the text.\n",
    "\n",
    "This approach is commonly used when:\n",
    "- Manual annotation is too costly or time-consuming\n",
    "- Domain expertise is required to label data accurately\n",
    "- A large amount of unlabelled text is available\n",
    "\n",
    "Weak labelling allows researchers to generate useful training data without human effort, using only heuristics or dictionaries. It is particularly effective in structured domains like environmental science, where many terms are standardised.\n",
    "\n",
    "### 2.3 Benefits and Limitations\n",
    "#### Benefits:\n",
    "- Fast and scalable to large corpora\n",
    "- Easy to understand and reproduce\n",
    "- High recall for known vocabulary terms\n",
    "- Suitable for domains with well-defined terminology\n",
    "\n",
    "#### Limitations:\n",
    "- No understanding of context or meaning\n",
    "- Fails to detect entities not in the vocabulary\n",
    "- Can produce false positives (e.g. \"Amazon\" as rainforest vs company)\n",
    "- Requires careful span handling to avoid overlap or misalignment\n",
    "\n",
    "This method is not a replacement for human-labelled data, but it provides a strong starting point. The resulting annotations can be used to train statistical models or refine vocabularies through iteration and validation."
   ]
  },
  {
   "cell_type": "markdown",
   "id": "1238b0e0-248a-4714-b96d-985ce27f397c",
   "metadata": {},
   "source": [
    "## 3. Annotation Process\n",
    "In this section, the annotation process is initialised using the Aho-Corasick algorithm for each entity category. A case-insensitive matcher is built for every vocabulary, and core matching functionality is defined to identify valid entity spans within each sentence. This enables efficient detection of known terms while filtering out partial or incorrect matches."
   ]
  },
  {
   "cell_type": "code",
   "execution_count": 44,
   "id": "5879dba7-8207-4b7e-9b15-506c4ea30b67",
   "metadata": {},
   "outputs": [],
   "source": [
    "import os\n",
    "import json\n",
    "import time\n",
    "from pathlib import Path\n",
    "from collections import defaultdict\n",
    "\n",
    "import ahocorasick\n",
    "\n",
    "SEGMENTED_PATH = Path(\"../data/segmented_text\")\n",
    "VOCAB_PATH = Path(\"../vocabs/final\")\n",
    "OUTPUT_PATH = Path(\"../data/json\")\n",
    "os.makedirs(OUTPUT_PATH, exist_ok=True)"
   ]
  },
  {
   "cell_type": "markdown",
   "id": "2425ff9b-f059-4c8f-9e1b-f6fd044cdf51",
   "metadata": {},
   "source": [
    "### 3.1 Load all sentences\n",
    "All pre-segmented sentences are loaded from the corpus folder. This creates a single list containing every sentence to be annotated."
   ]
  },
  {
   "cell_type": "code",
   "execution_count": 45,
   "id": "351b2667-fced-43ca-968a-1658837c5f91",
   "metadata": {},
   "outputs": [
    {
     "name": "stdout",
     "output_type": "stream",
     "text": [
      "Loaded 2,748,655 sentences\n"
     ]
    }
   ],
   "source": [
    "all_sentences = []\n",
    "\n",
    "for file_path in SEGMENTED_PATH.rglob(\"*.txt\"):\n",
    "    with open(file_path, encoding=\"utf-8\") as f:\n",
    "        lines = [line.strip() for line in f if line.strip()]\n",
    "        all_sentences.extend(lines)\n",
    "\n",
    "print(f\"Loaded {len(all_sentences):,} sentences\")"
   ]
  },
  {
   "cell_type": "markdown",
   "id": "2813e1b3-f92f-4d79-a233-cec1531388d8",
   "metadata": {},
   "source": [
    "The total number of sentences is 2,748,655. Only those containing at least one matched entity will be retained in the final dataset."
   ]
  },
  {
   "cell_type": "markdown",
   "id": "662740a3-57d4-4cb8-baeb-e88d5dbe6de4",
   "metadata": {},
   "source": [
    "### 3.2 Load vocabulary and build automata\n",
    "Each vocabulary file is read and converted into an Aho-Corasick automaton for fast multi-pattern matching. One matcher is created per entity category."
   ]
  },
  {
   "cell_type": "code",
   "execution_count": 46,
   "id": "5ec60420-6d41-4ee7-af4c-758b5e7e73a4",
   "metadata": {},
   "outputs": [
    {
     "name": "stdout",
     "output_type": "stream",
     "text": [
      "Loaded 1,250 terms for POLLUTANT\n",
      "Loaded 1,303 terms for ENV_PROCESS\n",
      "Loaded 1,170 terms for MEASUREMENT\n",
      "Loaded 574 terms for HABITAT\n",
      "Loaded 129,452 terms for TAXONOMY\n"
     ]
    }
   ],
   "source": [
    "matchers = {}\n",
    "\n",
    "for vocab_file in VOCAB_PATH.glob(\"*.txt\"):\n",
    "    label = vocab_file.stem.upper()\n",
    "\n",
    "    with open(vocab_file, encoding=\"utf-8\") as f:\n",
    "        terms = [line.strip().lower() for line in f if line.strip()]\n",
    "    \n",
    "    automaton = ahocorasick.Automaton()\n",
    "    for term in terms:\n",
    "        automaton.add_word(term, (term, label))\n",
    "    automaton.make_automaton()\n",
    "\n",
    "    matchers[label] = automaton\n",
    "    print(f\"Loaded {len(terms):,} terms for {label}\")"
   ]
  },
  {
   "cell_type": "markdown",
   "id": "2f53b1b1-50e0-4435-b0a3-b9b756b21c92",
   "metadata": {},
   "source": [
    "This step loads over 130,000 taxonomy terms and around 500–1,300 terms for each of the other four categories. These matchers will be used to scan each sentence for known entity terms"
   ]
  },
  {
   "cell_type": "markdown",
   "id": "29cefb02-9df0-4037-913e-56a9d6a3c875",
   "metadata": {},
   "source": [
    "### 3.3 Define span-matching logic\n",
    "This step defines the core function used to detect vocabulary matches within a sentence. Matches are returned as character spans only if they respect full-word boundaries and are not part of hyphenated words. This helps avoid partial or incorrect matches (e.g. skipping \"rain\" in \"acid-rainfall\")."
   ]
  },
  {
   "cell_type": "code",
   "execution_count": 47,
   "id": "4bf060f9-60d4-44a6-85df-d27f5288204d",
   "metadata": {},
   "outputs": [],
   "source": [
    "def is_inside_hyphenated_word(text: str, start: int, end: int) -> bool:\n",
    "    \"\"\"True if the span touches a hyphen that is part of a larger word\"\"\"\n",
    "    return (start > 0 and text[start-1] == '-') or (end < len(text) and text[end] == '-')\n",
    "\n",
    "\n",
    "def annotate_text_with_vocab(text: str, automaton, label: str):\n",
    "    \"\"\"Return a list of [start, end, label] spans matched in input text\"\"\"\n",
    "    lowered = text.lower()\n",
    "    text_len = len(text)\n",
    "    spans = []\n",
    "\n",
    "    for end_idx, (term, _) in automaton.iter(lowered):\n",
    "        start_idx = end_idx - len(term) + 1\n",
    "\n",
    "        before_ok = start_idx == 0 or not text[start_idx-1].isalnum()\n",
    "        after_ok  = end_idx + 1 == text_len or not text[end_idx+1].isalnum()\n",
    "\n",
    "        if before_ok and after_ok and not is_inside_hyphenated_word(text, start_idx, end_idx+1):\n",
    "            spans.append([start_idx, end_idx+1, label])\n",
    "\n",
    "    spans.sort(key=lambda s: (s[0], s[1]-s[0]))\n",
    "    return spans"
   ]
  },
  {
   "cell_type": "markdown",
   "id": "1d5b7d5d-74ff-4892-9a1c-536290cff006",
   "metadata": {},
   "source": [
    "### 3.4 Annotating the data\n",
    "Each sentence is passed through all five Aho-Corasick matchers. Matching spans are stored per sentence if they meet the boundary rules defined earlier. Sentences without any entity match are ignored at this stage.\n",
    "\n",
    "This approach is fast and scalable. However, it produces weak labels since matches are based only on exact vocabulary terms, without any use of surrounding context."
   ]
  },
  {
   "cell_type": "code",
   "execution_count": 48,
   "id": "fb46abf8-60e0-4c34-a679-96adbf02f488",
   "metadata": {},
   "outputs": [
    {
     "name": "stdout",
     "output_type": "stream",
     "text": [
      "Annotated 100,000/2,748,655 sentences\n",
      "Annotated 200,000/2,748,655 sentences\n",
      "Annotated 300,000/2,748,655 sentences\n",
      "Annotated 400,000/2,748,655 sentences\n",
      "Annotated 500,000/2,748,655 sentences\n",
      "Annotated 600,000/2,748,655 sentences\n",
      "Annotated 700,000/2,748,655 sentences\n",
      "Annotated 800,000/2,748,655 sentences\n",
      "Annotated 900,000/2,748,655 sentences\n",
      "Annotated 1,000,000/2,748,655 sentences\n",
      "Annotated 1,100,000/2,748,655 sentences\n",
      "Annotated 1,200,000/2,748,655 sentences\n",
      "Annotated 1,300,000/2,748,655 sentences\n",
      "Annotated 1,400,000/2,748,655 sentences\n",
      "Annotated 1,500,000/2,748,655 sentences\n",
      "Annotated 1,600,000/2,748,655 sentences\n",
      "Annotated 1,700,000/2,748,655 sentences\n",
      "Annotated 1,800,000/2,748,655 sentences\n",
      "Annotated 1,900,000/2,748,655 sentences\n",
      "Annotated 2,000,000/2,748,655 sentences\n",
      "Annotated 2,100,000/2,748,655 sentences\n",
      "Annotated 2,200,000/2,748,655 sentences\n",
      "Annotated 2,300,000/2,748,655 sentences\n",
      "Annotated 2,400,000/2,748,655 sentences\n",
      "Annotated 2,500,000/2,748,655 sentences\n",
      "Annotated 2,600,000/2,748,655 sentences\n",
      "Annotated 2,700,000/2,748,655 sentences\n",
      "Annotated 735,542 sentences with at least one entity\n"
     ]
    }
   ],
   "source": [
    "raw_annotations = defaultdict(list)\n",
    "\n",
    "for i, sentence in enumerate(all_sentences):\n",
    "    for label, automaton in matchers.items():\n",
    "        matches = annotate_text_with_vocab(sentence, automaton, label)\n",
    "        if matches:\n",
    "            raw_annotations[sentence].extend(matches)\n",
    "\n",
    "    if (i + 1) % 100000 == 0:\n",
    "        print(f\"Annotated {i + 1:,}/{len(all_sentences):,} sentences\")\n",
    "\n",
    "print(f\"Annotated {len(raw_annotations):,} sentences with at least one entity\")"
   ]
  },
  {
   "cell_type": "markdown",
   "id": "c36e056f-99c6-4962-8ef5-a7902fd691c6",
   "metadata": {},
   "source": [
    "This step annotated 735,542 out of 2,748,655 sentences, meaning around 2 million sentences were excluded due to no matches.\n",
    "\n",
    "This is a normal outcome in weak labelling. Removing unmatched sentences improves overall label precision by avoiding empty or noisy examples."
   ]
  },
  {
   "cell_type": "markdown",
   "id": "9f0f1c8c-9687-42fe-b882-0b43d6ff480f",
   "metadata": {},
   "source": [
    "### 3.5 removing overlaping spans\n",
    "Some sentences contain overlapping entity matches. These occur when multiple vocabulary terms match substrings that share characters. For example, both “salt” and “salt marsh” may appear in the same span.\n",
    "\n",
    "In such cases, only the longest span is retained. This helps preserve contextual clarity and reduces noise from nested or partial terms.\n",
    "\n",
    "The following code checks the annotated data for overlaps and prints a few examples for inspection."
   ]
  },
  {
   "cell_type": "code",
   "execution_count": 49,
   "id": "1e765f02-a57e-4d93-9b99-c17278121183",
   "metadata": {},
   "outputs": [
    {
     "name": "stdout",
     "output_type": "stream",
     "text": [
      "\n",
      "Sentences with overlapping entity spans:\n",
      "\n",
      "Sentence: During sediment collection samplers were removed from the metal uprights secured to the river bed and the contents emptied into 5-L containers.\n",
      "Spans: [[88, 93, 'HABITAT'], [88, 97, 'HABITAT']]\n",
      "\n",
      "Sentence: All samples were lightly hand ground, pressed and then measured under a He atmosphere under combined Pd and Co excitation radiation and using a high resolution, low spectral interference silicon drift detector.\n",
      "Spans: [[122, 131, 'POLLUTANT'], [122, 131, 'POLLUTANT']]\n",
      "\n",
      "Sentence: Results are the average of three repeats after elimination of outliers, a process that minimises intra-sample noise in the laser granulometry.\n",
      "Spans: [[110, 115, 'POLLUTANT'], [110, 115, 'POLLUTANT']]\n",
      "\n",
      "Sentence: Earth Surface Processes and Landforms 26: 1237 1248.\n",
      "Spans: [[28, 37, 'HABITAT'], [28, 37, 'HABITAT']]\n",
      "\n",
      "Sentence: Springer; 373 390 Folk RL, Ward WC. 1957.\n",
      "Spans: [[0, 8, 'TAXONOMY'], [0, 8, 'TAXONOMY']]\n",
      "\n"
     ]
    }
   ],
   "source": [
    "def has_overlap(spans):\n",
    "    spans = sorted(spans, key=lambda x: x[0])\n",
    "    for i in range(len(spans)-1):\n",
    "        if spans[i][1] > spans[i+1][0]:\n",
    "            return True\n",
    "    return False\n",
    "\n",
    "print(\"\\nSentences with overlapping entity spans:\\n\")\n",
    "count = 0\n",
    "for sent, spans in raw_annotations.items():\n",
    "    if has_overlap(spans):\n",
    "        print(f\"Sentence: {sent}\")\n",
    "        print(f\"Spans: {spans}\\n\")\n",
    "        count += 1\n",
    "        if count == 5:\n",
    "            break\n",
    "\n",
    "if count == 0:\n",
    "    print(\"No overlapping spans found.\")"
   ]
  },
  {
   "cell_type": "markdown",
   "id": "c91fd525-8003-41a2-9855-5ad3e9b864ec",
   "metadata": {},
   "source": [
    "To ensure annotation consistency, overlapping spans must be removed. When two or more entity matches share characters, the longest match is retained. This reduces ambiguity and helps maintain clean training data.\n",
    "\n",
    "The function below implements a “longest-match-wins” strategy by sorting spans by start position and length, and then keeping only non-overlapping ones. Exact duplicate spans are also removed beforehand."
   ]
  },
  {
   "cell_type": "code",
   "execution_count": 50,
   "id": "a4ef1c8c-a970-4e9f-a931-62cc62ccc295",
   "metadata": {},
   "outputs": [],
   "source": [
    "def resolve_overlaps(spans):\n",
    "    \"\"\"Keep longest span when overlaps occur\"\"\"\n",
    "    spans = sorted(spans, key=lambda s: (s[0], -(s[1]-s[0])))\n",
    "    resolved, occupied = [], set()\n",
    "    for s, e, lbl in spans:\n",
    "        if not any(pos in occupied for pos in range(s, e)):\n",
    "            resolved.append([s, e, lbl])\n",
    "            occupied.update(range(s, e))\n",
    "    return resolved"
   ]
  },
  {
   "cell_type": "code",
   "execution_count": 51,
   "id": "ffa05fc5-d899-480b-98a8-e66e9f564303",
   "metadata": {},
   "outputs": [
    {
     "name": "stdout",
     "output_type": "stream",
     "text": [
      "Cleaned annotations for 735,542 sentences\n"
     ]
    }
   ],
   "source": [
    "clean_annotations = {}\n",
    "\n",
    "for sent, spans in raw_annotations.items():\n",
    "    deduped = list({(s, e, l) for s, e, l in spans})  # remove exact duplicates\n",
    "    resolved = resolve_overlaps(deduped)\n",
    "    if resolved:\n",
    "        clean_annotations[sent] = resolved\n",
    "\n",
    "print(f\"Cleaned annotations for {len(clean_annotations):,} sentences\")"
   ]
  },
  {
   "cell_type": "code",
   "execution_count": 52,
   "id": "3ed92378-f8fe-4f01-948e-2f487cff8946",
   "metadata": {},
   "outputs": [
    {
     "name": "stdout",
     "output_type": "stream",
     "text": [
      "Sentences with overlapping spans after resolution: 0\n"
     ]
    }
   ],
   "source": [
    "overlap_count = 0\n",
    "for spans in clean_annotations.values():\n",
    "    if has_overlap(spans):\n",
    "        overlap_count += 1\n",
    "\n",
    "print(f\"Sentences with overlapping spans after resolution: {overlap_count}\")"
   ]
  },
  {
   "cell_type": "markdown",
   "id": "bec88948-b5c2-4c3a-ad0c-bc542144e097",
   "metadata": {},
   "source": [
    "The overlap resolution process cleaned the annotations for 735,542 sentences. A final validation shows that 0 sentences contain overlapping spans, confirming the success of the procedure."
   ]
  },
  {
   "cell_type": "markdown",
   "id": "0e836049-1fc6-43a0-83b3-b2ffd64c73bf",
   "metadata": {},
   "source": [
    "### 3.6 Spot-checking samples\n",
    "To qualitatively inspect the annotation quality, a small random sample of annotated sentences is printed below. Entities are marked inline in the format [text|LABEL] for readability.\n",
    "\n",
    "This step helps verify that entity boundaries are accurate and that labels align with expectations. It also highlights whether multi-word terms are correctly captured and whether irrelevant matches are slipping through."
   ]
  },
  {
   "cell_type": "code",
   "execution_count": 53,
   "id": "1b824478-610e-45e6-bf6b-2adcf84c16f0",
   "metadata": {},
   "outputs": [
    {
     "name": "stdout",
     "output_type": "stream",
     "text": [
      "He has also spread [red squirrels|TAXONOMY] across the Highlands and established [goldeneye|TAXONOMY] [ducks|TAXONOMY] as a breeding species.\n",
      "\n",
      "In 2022, a unit of the CDC reported that out of 2,310 [urine|POLLUTANT] samples collected, more than 80% were laced with detectable traces of [glyphosate|POLLUTANT].\n",
      "\n",
      "Marine [protected areas|HABITAT] ([MPAs|MEASUREMENT]) require ecologically meaningful designs capable of taking into account the particularities of the species under consideration, the dynamic nature of the [marine environment|HABITAT], and the multiplicity of [anthropogenic|ENV_PROCESS] impacts.\n",
      "\n",
      "'War on plastic' could strand oil industry's £300bn investment | Major oil firms plan to grow plastic supply to counter impact of shift against fossil fuels | The war on plastic waste could scupper the oil industry’s multi-billion dollar bet that the world will continue to need more fossil fuels to help make the petrochemicals used in [plastics|POLLUTANT], according to a new report.\n",
      "\n",
      "Country diary: [nuthatches|TAXONOMY] continue their northerly advance | Backstone Bank [Wood|HABITAT], Weardale: The common sight of this once rare [bird|TAXONOMY] is a welcome reversal of the trend of decline |\n",
      "\n"
     ]
    }
   ],
   "source": [
    "import random\n",
    "\n",
    "def mark_entities(text, spans):\n",
    "    spans = sorted(spans, key=lambda x: x[0])\n",
    "    marked = \"\"\n",
    "    last = 0\n",
    "    for start, end, label in spans:\n",
    "        marked += text[last:start]\n",
    "        marked += f\"[{text[start:end]}|{label}]\"\n",
    "        last = end\n",
    "    marked += text[last:]\n",
    "    return marked\n",
    "\n",
    "samples = random.sample(list(clean_annotations.items()), 5)\n",
    "\n",
    "for sent, spans in samples:\n",
    "    print(mark_entities(sent, spans))\n",
    "    print()"
   ]
  },
  {
   "cell_type": "markdown",
   "id": "4d8a6bf9-0c25-44ae-b1d8-6fe70361fb5d",
   "metadata": {},
   "source": [
    "The printed examples demonstrate that the annotation logic performs well:\n",
    "\n",
    "- Multi-word entities such as \"protected areas\", \"marine environment\", and \"red squirrels\" are correctly labelled.\n",
    "- Category assignments appear contextually appropriate. For instance, \"glyphosate\" is labelled as POLLUTANT, while \"nuthatches\" and \"goldeneye ducks\" are labelled as TAXONOMY.\n",
    "- Nested and adjacent entities are cleanly separated, with no sign of overlap or misaligned spans.\n",
    "\n",
    "Overall, the spot checks indicate that the annotation pipeline is producing high-quality weak labels suitable for model training."
   ]
  },
  {
   "cell_type": "markdown",
   "id": "2fb07f5d-b239-45a6-bd7e-2f48c027ad46",
   "metadata": {},
   "source": [
    "### 3.7 Save annotated data to JSONL\n",
    "The final cleaned annotations are written to a .jsonl file in SpaCy-compatible format. Each line contains a dictionary with the sentence text and a list of entity spans.\n",
    "\n",
    "This format will be used for training a NER model in later stages."
   ]
  },
  {
   "cell_type": "code",
   "execution_count": 54,
   "id": "a312c199-46df-47c1-8c4e-fd960ebcc513",
   "metadata": {},
   "outputs": [
    {
     "name": "stdout",
     "output_type": "stream",
     "text": [
      "\n",
      "Saved → ../data/json/training_data.jsonl  (735,542 lines)\n"
     ]
    }
   ],
   "source": [
    "jsonl_path = OUTPUT_PATH / \"training_data.jsonl\"\n",
    "with jsonl_path.open(\"w\", encoding=\"utf-8\") as f:\n",
    "    for sent, spans in clean_annotations.items():\n",
    "        json.dump({\"text\": sent, \"label\": spans}, f, ensure_ascii=False)\n",
    "        f.write(\"\\n\")\n",
    "\n",
    "print(f\"\\nSaved → {jsonl_path}  ({len(clean_annotations):,} lines)\")"
   ]
  },
  {
   "cell_type": "markdown",
   "id": "1f291255-3a12-43f8-95c9-9a7d0f575472",
   "metadata": {},
   "source": [
    "## 4. Analysing Annotated Entities\n",
    "This section runs basic checks to better understand the output of the rule-based annotation. It includes simple counts and summaries that help validate entity coverage across categories.\n",
    "\n",
    "The aim is to identify whether any categories dominate or are underrepresented, and to check that the vocabulary terms are being used as expected. These diagnostics provide a useful baseline before moving on to model training or further data refinement."
   ]
  },
  {
   "cell_type": "markdown",
   "id": "33a25e4e-e41d-46e5-a167-918d0e2bfcf0",
   "metadata": {},
   "source": [
    "### 4.1 Entity Counts by Category\n",
    "This section calculates the total number of entities annotated for each vocabulary category. It provides a high-level overview of entity distribution across the dataset."
   ]
  },
  {
   "cell_type": "code",
   "execution_count": 55,
   "id": "a1bd3190-44cd-40ba-9cad-d5466141c603",
   "metadata": {},
   "outputs": [
    {
     "name": "stdout",
     "output_type": "stream",
     "text": [
      "Entity counts by category\n",
      "\n",
      "HABITAT         : 373,060\n",
      "ENV_PROCESS     : 365,599\n",
      "TAXONOMY        : 258,948\n",
      "MEASUREMENT     : 111,187\n",
      "POLLUTANT       : 96,938\n"
     ]
    }
   ],
   "source": [
    "from collections import Counter\n",
    "\n",
    "label_counter = Counter()\n",
    "\n",
    "for spans in clean_annotations.values():\n",
    "    for _, _, lbl in spans:\n",
    "        label_counter[lbl] += 1\n",
    "\n",
    "print(\"Entity counts by category\\n\")\n",
    "for lbl, n in label_counter.most_common():\n",
    "    print(f\"{lbl:<15} : {n:,}\")"
   ]
  },
  {
   "cell_type": "markdown",
   "id": "a4bc0473-0f78-4266-b0eb-8315d37ad9b6",
   "metadata": {},
   "source": [
    "HABITAT and ENV_PROCESS entities are the most frequently matched categories, each with over 350,000 annotations. This reflects the relatively high coverage and generality of terms in these vocabularies. TAXONOMY is also well represented, though lower in volume due to the more specific nature of species and organism names. MEASUREMENT and POLLUTANT categories are less frequent, likely due to narrower term lists and stricter matching criteria (e.g. for units and numerical formats). This distribution may influence model performance and suggests potential areas for further vocabulary expansion."
   ]
  },
  {
   "cell_type": "markdown",
   "id": "4b313509-925f-4655-9e86-1695c0b231df",
   "metadata": {},
   "source": [
    "### 4.2 Most Frequent Entities by Category\n",
    "This section prints the 30 most frequently matched entities for each vocabulary category. This helps to understand which terms are most dominant in the dataset and whether they align with expectations. It also highlights common patterns, imbalances, or potential sources of noise across different entity types."
   ]
  },
  {
   "cell_type": "code",
   "execution_count": 56,
   "id": "ab92c335-4bd9-4f97-aa16-86d3b1359d69",
   "metadata": {},
   "outputs": [
    {
     "name": "stdout",
     "output_type": "stream",
     "text": [
      "\n",
      "── HABITAT ──\n",
      "habitat                        32782\n",
      "forest                         25871\n",
      "ecosystem                      21801\n",
      "habitats                       21766\n",
      "river                          20572\n",
      "ecosystems                     14783\n",
      "landscape                      12460\n",
      "forests                        9274\n",
      "lake                           8154\n",
      "island                         8084\n",
      "rivers                         7568\n",
      "coast                          7220\n",
      "wood                           6070\n",
      "grassland                      5635\n",
      "islands                        4730\n",
      "landscapes                     4280\n",
      "wetland                        4225\n",
      "garden                         4171\n",
      "reef                           4166\n",
      "wetlands                       4118\n",
      "lakes                          3976\n",
      "bay                            3952\n",
      "beach                          3886\n",
      "valley                         3793\n",
      "national park                  3591\n",
      "mountain                       3502\n",
      "hill                           2882\n",
      "territory                      2742\n",
      "protected areas                2617\n",
      "grasslands                     2583\n",
      "\n",
      "── MEASUREMENT ──\n",
      "temperature                    17616\n",
      "temperatures                   10364\n",
      "ph                             5949\n",
      "km                             4684\n",
      "cm                             4422\n",
      "mg                             4380\n",
      "pa                             2868\n",
      "kg                             2702\n",
      "°c                             2453\n",
      "pm                             2020\n",
      "salinity                       2016\n",
      "ml                             1848\n",
      "mg/l                           1818\n",
      "min                            1813\n",
      "soil moisture                  1743\n",
      "pt                             1556\n",
      "ns                             1533\n",
      "humidity                       1453\n",
      "fl                             1427\n",
      "nm                             1215\n",
      "m2                             1185\n",
      "m3                             1168\n",
      "ng                             1073\n",
      "cl                             1019\n",
      "ev                             1019\n",
      "carbon footprint               965\n",
      "water level                    883\n",
      "nl                             799\n",
      "relative humidity              774\n",
      "evapotranspiration             765\n",
      "\n",
      "── POLLUTANT ──\n",
      "wastewater                     8350\n",
      "sewage                         4254\n",
      "noise                          4035\n",
      "pb                             3500\n",
      "methane                        3156\n",
      "carbon dioxide                 3098\n",
      "litter                         3077\n",
      "plastics                       3066\n",
      "pesticides                     2636\n",
      "heavy metals                   2609\n",
      "mercury                        2494\n",
      "smoke                          2398\n",
      "microplastics                  2367\n",
      "radiation                      2262\n",
      "phosphorus                     2000\n",
      "arsenic                        1591\n",
      "pesticide                      1445\n",
      "nitrate                        1321\n",
      "ozone                          1178\n",
      "ammonia                        1151\n",
      "antibiotics                    1108\n",
      "microplastic                   1035\n",
      "chromium                       1023\n",
      "pcbs                           966\n",
      "particulate matter             954\n",
      "manure                         928\n",
      "fertiliser                     879\n",
      "cadmium                        874\n",
      "antibiotic                     838\n",
      "zinc                           837\n",
      "\n",
      "── TAXONOMY ──\n",
      "fish                           18185\n",
      "birds                          11967\n",
      "bird                           7561\n",
      "bacteria                       4482\n",
      "cattle                         3164\n",
      "cod                            2930\n",
      "bees                           2239\n",
      "sheep                          2211\n",
      "mammals                        2208\n",
      "turkey                         2021\n",
      "dog                            1888\n",
      "whales                         1830\n",
      "shark                          1706\n",
      "butterfly                      1683\n",
      "salmon                         1682\n",
      "whale                          1550\n",
      "bee                            1511\n",
      "bear                           1504\n",
      "butterflies                    1459\n",
      "sharks                         1417\n",
      "cows                           1410\n",
      "pigs                           1383\n",
      "dogs                           1360\n",
      "deer                           1252\n",
      "bats                           1229\n",
      "rocky                          1134\n",
      "mammal                         1130\n",
      "ant                            1114\n",
      "wolves                         1092\n",
      "pig                            1057\n",
      "\n",
      "── ENV_PROCESS ──\n",
      "climate                        69779\n",
      "climate change                 33526\n",
      "drought                        27453\n",
      "emissions                      26285\n",
      "flood                          14253\n",
      "pollution                      13537\n",
      "weather                        10309\n",
      "season                         8100\n",
      "wind                           7724\n",
      "restoration                    7501\n",
      "air pollution                  5812\n",
      "rain                           5259\n",
      "degradation                    4881\n",
      "anthropogenic                  4623\n",
      "contamination                  4522\n",
      "deforestation                  3842\n",
      "effluent                       3834\n",
      "storm                          3766\n",
      "droughts                       3634\n",
      "greenhouse gas emissions       3506\n",
      "carbon emissions               3433\n",
      "snow                           3329\n",
      "global warming                 3138\n",
      "dam                            2959\n",
      "adsorption                     2836\n",
      "seasons                        2610\n",
      "storms                         2454\n",
      "emission                       2242\n",
      "deposition                     2106\n",
      "remote sensing                 2017\n"
     ]
    }
   ],
   "source": [
    "from collections import Counter\n",
    "\n",
    "# Top 30 frequent entity texts per label (lowercased)\n",
    "for lbl in label_counter:\n",
    "    c = Counter(\n",
    "        text[start:end].lower()\n",
    "        for text, spans in clean_annotations.items()\n",
    "        for start, end, l in spans\n",
    "        if l == lbl\n",
    "    )\n",
    "    print(f\"\\n── {lbl} ──\")\n",
    "    for token, n in c.most_common(30):\n",
    "        print(f\"{token:<30} {n}\")"
   ]
  },
  {
   "cell_type": "markdown",
   "id": "153f2e7c-a7d3-4633-a3fc-63ead71b080c",
   "metadata": {},
   "source": [
    "The most common entities reflect both vocabulary design and the nature of environmental text:\n",
    "\n",
    "- HABITAT is dominated by general ecological terms such as habitat, forest, ecosystem, and river. This shows strong representation of common landscape features.\n",
    "- MEASUREMENT includes units (mg, kg, km) and environmental indicators (temperature, pH, salinity). These often appear alongside quantitative observations.\n",
    "- POLLUTANT terms like wastewater, sewage, noise, methane, and carbon dioxide reflect typical environmental hazards. Some highly specific chemicals (pb, arsenic, pcbs) are also well represented.\n",
    "- TAXONOMY covers high-level terms like fish, birds, and bacteria, as well as species and common animals (whale, salmon, pig). A few odd entries like rocky or ant may require review.\n",
    "- ENV_PROCESS is led by climate, climate change, and drought. These results confirm that this category captures broader environmental phenomena and stressors.\n",
    "\n",
    "The data confirms that entity matching works reliably for frequent, well-represented terms. It may also highlight vocabulary areas to refine or extend in future iterations."
   ]
  },
  {
   "cell_type": "markdown",
   "id": "65f68561-6c0f-48f4-8887-3038f9873d3a",
   "metadata": {},
   "source": [
    "### 4.3 Entity Distribution per Sentence\n",
    "This section examines how many entities appear in each annotated sentence. Understanding this distribution helps assess the density of entity labels across the dataset.\n",
    "\n",
    "Sentences with very few entities may provide limited training signal, while those with many entities might overwhelm a model or indicate noisy matches. A balanced distribution is generally preferable, especially for training Named Entity Recognition systems.\n",
    "\n",
    "The analysis includes summary statistics and a histogram to visualise the number of entities per sentence."
   ]
  },
  {
   "cell_type": "code",
   "execution_count": 57,
   "id": "ecc21cb6-ad95-4241-97b8-b1b79b646d10",
   "metadata": {},
   "outputs": [
    {
     "name": "stdout",
     "output_type": "stream",
     "text": [
      "Total annotated sentences     : 735,542\n",
      "Average entities per sentence : 1.64\n",
      "Max entities in a sentence    : 53\n",
      "Sentences with only 1 entity  : 449,228\n",
      "Sentences with >10 entities   : 441\n"
     ]
    },
    {
     "data": {
      "image/png": "[encoded data removed]",
      "text/plain": [
       "<Figure size 1000x500 with 1 Axes>"
      ]
     },
     "metadata": {},
     "output_type": "display_data"
    }
   ],
   "source": [
    "import matplotlib.pyplot as plt\n",
    "\n",
    "entity_counts = [len(spans) for spans in clean_annotations.values()]\n",
    "\n",
    "print(f\"Total annotated sentences     : {len(entity_counts):,}\")\n",
    "print(f\"Average entities per sentence : {sum(entity_counts)/len(entity_counts):.2f}\")\n",
    "print(f\"Max entities in a sentence    : {max(entity_counts)}\")\n",
    "print(f\"Sentences with only 1 entity  : {(entity_counts.count(1)):,}\")\n",
    "print(f\"Sentences with >10 entities   : {sum(1 for c in entity_counts if c > 10):,}\")\n",
    "\n",
    "plt.figure(figsize=(10, 5))\n",
    "plt.hist(entity_counts, bins=range(1, 16), edgecolor='black', align='left')\n",
    "plt.title(\"Distribution of Entity Counts per Sentence\")\n",
    "plt.xlabel(\"Number of Entities\")\n",
    "plt.ylabel(\"Number of Sentences\")\n",
    "plt.xticks(range(1, 16))\n",
    "plt.grid(axis='y', linestyle='--', alpha=0.7)\n",
    "plt.tight_layout()\n",
    "plt.show()"
   ]
  },
  {
   "cell_type": "markdown",
   "id": "99b8faf7-5c16-49bc-9388-f388ef547fed",
   "metadata": {},
   "source": [
    "The majority of annotated sentences contain only a small number of entities. Specifically:\n",
    "\n",
    "- Average entities per sentence: 1.64\n",
    "- Sentences with exactly one entity: 449,228\n",
    "- Sentences with more than 10 entities: 441\n",
    "- Maximum number of entities in a sentence: 53\n",
    "\n",
    "The distribution is heavily right-skewed, with most sentences containing 1–3 entities. This is expected, as environmental sentences tend to mention a limited number of domain-specific terms per context.\n",
    "\n",
    "This distribution is favourable for training, as it provides many examples with single or paired entities, helping the model learn isolated and contextual patterns. However, a small number of complex sentences with dense annotations may be useful for testing the model’s ability to generalise in high-entity settings.\n",
    "\n",
    "Sentences with a very high number of entities (e.g. >10) may arise from:\n",
    "\n",
    "- Long compound sentences\n",
    "- Tabular or list-like structures\n",
    "- Noise or overly permissive matching\n",
    "\n",
    "These should be reviewed separately if annotation noise becomes an issue during model training."
   ]
  },
  {
   "cell_type": "markdown",
   "id": "03a651ed-d0d5-4704-b943-27b1a1815c47",
   "metadata": {},
   "source": [
    "### 4.4 Reviewing High-Entity Sentences\n",
    "While most sentences contain only a few entities, a small number include unusually high counts. This section reviews a sample of these outliers to assess whether they represent meaningful, well-structured data or noisy artefacts.\n",
    "\n",
    "Inspecting these cases helps identify patterns such as list-like structures, overly technical language, or annotation artefacts caused by aggressive matching. If needed, such sentences can be filtered or downweighted during model training to reduce noise."
   ]
  },
  {
   "cell_type": "code",
   "execution_count": 58,
   "id": "f2bd1621-49e2-4869-aaff-855dedc98eda",
   "metadata": {},
   "outputs": [],
   "source": [
    "filtered_annotations = {\n",
    "    sent: spans for sent, spans in clean_annotations.items()\n",
    "    if len(spans) <= 10\n",
    "}"
   ]
  },
  {
   "cell_type": "code",
   "execution_count": 59,
   "id": "5518316c-f1f3-400d-9eee-c74d12b75fb5",
   "metadata": {},
   "outputs": [
    {
     "data": {
      "text/plain": [
       "[('Here we use subtidal surface sediment surveys and sediment cores to explore the effects of the 2011 Brisbane River flood on trace metals zinc (Zn), lead (Pb), copper (Cu), nickel (Ni), chromium (Cr), manganese (Mn), and phosphorus (P) deposition in Moreton Bay, a shallow subtropical bay in eastern Australia.',\n",
       "  [[109, 114, 'HABITAT'],\n",
       "   [115, 120, 'ENV_PROCESS'],\n",
       "   [137, 141, 'POLLUTANT'],\n",
       "   [154, 156, 'POLLUTANT'],\n",
       "   [159, 165, 'POLLUTANT'],\n",
       "   [185, 193, 'POLLUTANT'],\n",
       "   [200, 209, 'POLLUTANT'],\n",
       "   [220, 230, 'POLLUTANT'],\n",
       "   [235, 245, 'ENV_PROCESS'],\n",
       "   [257, 260, 'HABITAT'],\n",
       "   [284, 287, 'HABITAT']]),\n",
       " ('Variable List (i.e. column description): Region= UK region where fish site is located Catchment= the river catchment/basin location of each fish site used in the Chempop project River= the river/watercourse location of each fish site used in the Chempop project SiteID= the unique code for each fish site used in the Chempop project SiteName= the name of each fish site used in the Chempop project NGR= fish site NGR location SurveyEasting= the easting of each fish site used in the Chempop project** SurveyNorthing= the northing of each fish site used in the Chempop project** SurveyArea= area of fish site surveyed (m-2)',\n",
       "  [[65, 69, 'TAXONOMY'],\n",
       "   [101, 106, 'HABITAT'],\n",
       "   [140, 144, 'TAXONOMY'],\n",
       "   [178, 183, 'HABITAT'],\n",
       "   [189, 194, 'HABITAT'],\n",
       "   [195, 206, 'HABITAT'],\n",
       "   [224, 228, 'TAXONOMY'],\n",
       "   [295, 299, 'TAXONOMY'],\n",
       "   [360, 364, 'TAXONOMY'],\n",
       "   [403, 407, 'TAXONOMY'],\n",
       "   [461, 465, 'TAXONOMY'],\n",
       "   [538, 542, 'TAXONOMY'],\n",
       "   [598, 602, 'TAXONOMY']]),\n",
       " ('=Upper Hore Y Fe ug/l RDA Fe ug/l Y Fe ug/l RDA Fe ug/l Y Fe ug/l RDA Fe ug/l Y Fe ug/l RDA Fe ug/l Y Fe ug/l RDA Fe ug/l Y Fe ug/l RDA Fe ug/l Fe: Just a few iron flyers and drop-outs were culled.',\n",
       "  [[17, 21, 'MEASUREMENT'],\n",
       "   [29, 33, 'MEASUREMENT'],\n",
       "   [39, 43, 'MEASUREMENT'],\n",
       "   [51, 55, 'MEASUREMENT'],\n",
       "   [61, 65, 'MEASUREMENT'],\n",
       "   [73, 77, 'MEASUREMENT'],\n",
       "   [83, 87, 'MEASUREMENT'],\n",
       "   [95, 99, 'MEASUREMENT'],\n",
       "   [105, 109, 'MEASUREMENT'],\n",
       "   [117, 121, 'MEASUREMENT'],\n",
       "   [127, 131, 'MEASUREMENT'],\n",
       "   [139, 143, 'MEASUREMENT']]),\n",
       " ('HQA_Score = the River Habitat Survey Habitat Quality Assessment score (covariate; habitat quality) HMS_Score = the River Habitat Survey Habitat Modification Score (covariate; habitat quality) Fish_Altitude = the terrain altitude (m above sea level) of each fish site used in the Chempop project (covariate) (meters above sea level) LC_Woodland_Per = the percentage of the catchment upstream of each fish site used in the Chempop project characterised as woodland (covariate; land use) (%) LC_Arable_Per = the percentage of the catchment upstream of each fish site used in the Chempop project characterised as arable (covariate; land use) (%) LC_Seminatural_Per= the percentage of the catchment upstream of each fish site used in the Chempop project characterised as semi-natural (covariate; land use) (%)',\n",
       "  [[16, 21, 'HABITAT'],\n",
       "   [22, 29, 'HABITAT'],\n",
       "   [37, 44, 'HABITAT'],\n",
       "   [82, 89, 'HABITAT'],\n",
       "   [115, 120, 'HABITAT'],\n",
       "   [121, 128, 'HABITAT'],\n",
       "   [136, 143, 'HABITAT'],\n",
       "   [175, 182, 'HABITAT'],\n",
       "   [192, 196, 'TAXONOMY'],\n",
       "   [197, 205, 'HABITAT'],\n",
       "   [220, 228, 'HABITAT'],\n",
       "   [238, 247, 'ENV_PROCESS'],\n",
       "   [257, 261, 'TAXONOMY'],\n",
       "   [321, 330, 'ENV_PROCESS'],\n",
       "   [399, 403, 'TAXONOMY'],\n",
       "   [554, 558, 'TAXONOMY'],\n",
       "   [711, 715, 'TAXONOMY']]),\n",
       " ('The greenhouse gas (GHG) emission represent the amount of greenhouse gases (nitrous oxide, methane and carbon dioxide) emissions associated with the annual production of 172 crops and 7 livestock commodities, considering the following processes emitting GHGs: (i) for crops, peatland drainage, rice cultivation, manure and synthetic fertiliser application to cropland, and (ii) for livestock, enteric fermentation, manure deposition on grassland, manure management on farm; and feed-related emissions due to application of manure on feed crops and application of synthetic fertiliser on grassland and feed crops, plus other cropland emissions for feed crops (e.g. from rice cultivation and peatland drainage).',\n",
       "  [[4, 18, 'ENV_PROCESS'],\n",
       "   [25, 33, 'ENV_PROCESS'],\n",
       "   [58, 74, 'ENV_PROCESS'],\n",
       "   [91, 98, 'POLLUTANT'],\n",
       "   [103, 117, 'POLLUTANT'],\n",
       "   [119, 128, 'ENV_PROCESS'],\n",
       "   [312, 318, 'POLLUTANT'],\n",
       "   [333, 343, 'POLLUTANT'],\n",
       "   [415, 421, 'POLLUTANT'],\n",
       "   [422, 432, 'ENV_PROCESS'],\n",
       "   [436, 445, 'HABITAT'],\n",
       "   [447, 453, 'POLLUTANT'],\n",
       "   [491, 500, 'ENV_PROCESS'],\n",
       "   [523, 529, 'POLLUTANT'],\n",
       "   [573, 583, 'POLLUTANT'],\n",
       "   [587, 596, 'HABITAT'],\n",
       "   [633, 642, 'ENV_PROCESS']])]"
      ]
     },
     "execution_count": 59,
     "metadata": {},
     "output_type": "execute_result"
    }
   ],
   "source": [
    "high_entity = [(s, v) for s, v in clean_annotations.items() if len(v) > 10]\n",
    "random.sample(high_entity, 5)"
   ]
  },
  {
   "cell_type": "markdown",
   "id": "bb594556-187b-4a15-b234-e89727a7d4a0",
   "metadata": {},
   "source": [
    "The sample reveals a variety of cases where high entity counts are valid but come with important caveats:\n",
    "\n",
    "- Scientific reporting style: Many sentences come from academic writing with dense terminology. For example, lists of pollutants (\"zinc (Zn), lead (Pb), copper (Cu)...\") or measurement units (\"Fe ug/l\", \"mg/L\") are common in environmental science texts. These are annotated correctly but may challenge models during training due to their structural complexity.\n",
    "- Tabular or metadata-like text: Some sentences resemble structured metadata fields or headers (e.g. “Region= UK region where fish site is located...”). These are often not natural language and could reduce model generalisability if over-represented. They might be excluded or separated into a different training tier.\n",
    "- Overlapping or stacked mentions: In certain cases, such as compound noun phrases or repeated entity mentions (“manure management on farm; and feed-related emissions…”), the model may need to resolve nested relationships or semantic dependencies. These are not incorrect but are more difficult to learn from.\n",
    "- Measurement-heavy strings: Sentences such as the one containing a dozen variants of “Fe ug/l” show how repetitive, pattern-like data can dominate. These may inflate frequency counts for certain entity types (like MEASUREMENT) and should be reviewed to ensure diversity in training data.\n",
    "\n",
    "Overall, while many high-entity sentences are valid and domain-relevant, they highlight the importance of data curation. If these types dominate the dataset, they may bias the model. Sampling or weighting strategies can be considered during training to ensure balanced learning."
   ]
  },
  {
   "cell_type": "markdown",
   "id": "8284d3f3-8279-4c8a-b972-c0c160329e3b",
   "metadata": {},
   "source": [
    "### 4.6 Span Length Analysis\n",
    "This step measures the average and maximum span length (in characters) for each entity category. It provides insight into how concise or descriptive the annotations are. For instance, longer spans may indicate compound expressions like “coastal salt marsh”, while very short spans may suggest generic terms like “fish”.\n",
    "\n",
    "Monitoring span lengths helps validate the quality of boundaries and informs later decisions, such as truncation limits or maximum sequence lengths in model training."
   ]
  },
  {
   "cell_type": "code",
   "execution_count": 60,
   "id": "12610a63-4529-4a43-b0ac-9abaae9896df",
   "metadata": {},
   "outputs": [
    {
     "name": "stdout",
     "output_type": "stream",
     "text": [
      "Label            Avg. Length   Max Length\n",
      "HABITAT                 7.66           35\n",
      "MEASUREMENT             6.46           29\n",
      "POLLUTANT               8.56           37\n",
      "TAXONOMY                6.52           23\n",
      "ENV_PROCESS             9.86           36\n"
     ]
    }
   ],
   "source": [
    "from collections import defaultdict\n",
    "import numpy as np\n",
    "\n",
    "lengths_by_label = defaultdict(list)\n",
    "\n",
    "for text, spans in clean_annotations.items():\n",
    "    for start, end, label in spans:\n",
    "        span_len = end - start\n",
    "        lengths_by_label[label].append(span_len)\n",
    "\n",
    "print(f\"{'Label':<15} {'Avg. Length':>12} {'Max Length':>12}\")\n",
    "for label, lengths in lengths_by_label.items():\n",
    "    avg = np.mean(lengths)\n",
    "    max_len = max(lengths)\n",
    "    print(f\"{label:<15} {avg:12.2f} {max_len:12}\")"
   ]
  },
  {
   "cell_type": "markdown",
   "id": "e9412050-e02a-4b44-9867-7a73ccdfd52d",
   "metadata": {},
   "source": [
    "The average span lengths are generally within a reasonable range across all categories, suggesting that entity boundaries have been captured accurately without excessive overreach or under-segmentation.\n",
    "\n",
    "- ENV_PROCESS (avg 9.86) has the longest spans on average. This is expected since many environmental processes involve compound phrases like “climate change” or “greenhouse gas emissions”.\n",
    "- POLLUTANT (avg 8.56) also shows a relatively high average. Entities such as “particulate matter” or “carbon dioxide” contribute to this.\n",
    "- HABITAT (avg 7.66) has moderately long spans, consistent with terms like “wetland ecosystem” or “national park”.\n",
    "- TAXONOMY (avg 6.52) and MEASUREMENT (avg 6.46) show shorter average lengths, which aligns with expectations since many species names and units are concise (e.g. “fish”, “mg/l”, “bee”).\n",
    "\n",
    "The maximum lengths (ranging from 23 to 37 characters) are not excessive and suggest that longer descriptive entities are rare but valid.\n",
    "\n",
    "No immediate action is needed, but it's good to be aware that models trained on this data may need appropriate token and span length limits to accommodate longer phrases, especially in ENV_PROCESS and POLLUTANT categories."
   ]
  },
  {
   "cell_type": "markdown",
   "id": "6ca90d7f-058e-477c-8fa3-b052258a0696",
   "metadata": {},
   "source": [
    "### 4.8 Validating Exported Annotations\n",
    "This section loads the exported .jsonl file and performs a final validation on all entity annotations. The purpose is to confirm that span boundaries are correct, entities are well-formed, and no overlaps remain. These checks ensure the data is ready for SpaCy model training without format or logic issues.\n",
    "\n",
    "Validation includes:\n",
    "- Span boundaries are within the sentence text length\n",
    "- Start character is strictly less than end character\n",
    "- No overlapping spans in the same sentence\n",
    "- Consistent record formatting across all lines"
   ]
  },
  {
   "cell_type": "code",
   "execution_count": 61,
   "id": "6e4aa003-7c3a-42c6-a5d7-4aeace749703",
   "metadata": {},
   "outputs": [
    {
     "name": "stdout",
     "output_type": "stream",
     "text": [
      "Validation summary:\n",
      "  Total lines checked         : 735,542\n",
      "  Invalid format lines        : 0\n",
      "  Spans with reversed bounds  : 0\n",
      "  Spans out of sentence bounds: 0\n",
      "  Sentences with overlaps     : 0\n"
     ]
    }
   ],
   "source": [
    "from pathlib import Path\n",
    "import json\n",
    "\n",
    "def validate_jsonl_annotations(path):\n",
    "    \"\"\"Validate .jsonl annotations for format, span bounds, and overlaps\"\"\"\n",
    "    def has_overlap(spans):\n",
    "        spans = sorted(spans, key=lambda x: x[0])\n",
    "        for i in range(len(spans) - 1):\n",
    "            if spans[i][1] > spans[i+1][0]:\n",
    "                return True\n",
    "        return False\n",
    "\n",
    "    invalid_format = 0\n",
    "    out_of_bounds = 0\n",
    "    reversed_spans = 0\n",
    "    overlapping = 0\n",
    "    total = 0\n",
    "\n",
    "    with open(path, encoding=\"utf-8\") as f:\n",
    "        for line in f:\n",
    "            total += 1\n",
    "            try:\n",
    "                record = json.loads(line)\n",
    "                text = record[\"text\"]\n",
    "                spans = record[\"label\"]\n",
    "            except Exception:\n",
    "                invalid_format += 1\n",
    "                continue\n",
    "\n",
    "            text_len = len(text)\n",
    "\n",
    "            for start, end, _ in spans:\n",
    "                if start >= end:\n",
    "                    reversed_spans += 1\n",
    "                if not (0 <= start < end <= text_len):\n",
    "                    out_of_bounds += 1\n",
    "\n",
    "            if has_overlap(spans):\n",
    "                overlapping += 1\n",
    "\n",
    "    print(\"Validation summary:\")\n",
    "    print(f\"  Total lines checked         : {total:,}\")\n",
    "    print(f\"  Invalid format lines        : {invalid_format}\")\n",
    "    print(f\"  Spans with reversed bounds  : {reversed_spans}\")\n",
    "    print(f\"  Spans out of sentence bounds: {out_of_bounds}\")\n",
    "    print(f\"  Sentences with overlaps     : {overlapping}\")\n",
    "\n",
    "jsonl_path = OUTPUT_PATH / \"training_data.jsonl\"\n",
    "validate_jsonl_annotations(jsonl_path)"
   ]
  },
  {
   "cell_type": "markdown",
   "id": "8bde72e0-7fd6-4b51-8a24-d5bb3644f8fe",
   "metadata": {},
   "source": [
    "All 735,542 annotated sentences passed the validation checks. There were no format errors, no reversed or out-of-bounds spans, and no overlaps. This confirms that the exported .jsonl file is correctly structured and suitable for use in NER model training."
   ]
  },
  {
   "cell_type": "markdown",
   "id": "a981bce9-cc89-46b3-a58b-602f256653ad",
   "metadata": {},
   "source": [
    "## 5. Final Summary\n",
    "\n",
    "### 5.1 Summary of the Annotation Process\n",
    "This section applied a rule-based method to assign entity labels to environmental text using precompiled vocabulary lists. Over 2.7 million pre-segmented sentences were processed using an Aho-Corasick matcher for each entity category. Matches were filtered to ensure full-word boundaries and remove partial tokens from hyphenated words.\n",
    "\n",
    "Overlapping annotations were resolved by retaining only the longest span in each case. The result was a clean and consistent set of annotations, exported in SpaCy’s .jsonl format and validated for correctness.\n",
    "\n",
    "Key results:\n",
    "\n",
    "- Sentences with entities: 735,542\n",
    "- Total entity spans: 1,205,732\n",
    "- Average entities per sentence: 1.64\n",
    "- Top categories: HABITAT and ENV_PROCESS\n",
    "- Validation outcome: No overlapping spans or boundary issues in the final file"
   ]
  },
  {
   "cell_type": "markdown",
   "id": "b922dc89-b7aa-44ae-aba3-7cdc55824e70",
   "metadata": {},
   "source": [
    "### 5.2 Next Steps\n",
    "The next stage will focus on evaluating how well this annotated dataset performs when used to train Named Entity Recognition (NER) models. This will involve:\n",
    "\n",
    "- Training a baseline model using a Conditional Random Field (CRF)\n",
    "- Training a SpaCy pipeline using its default convolutional neural network (CNN) architecture\n",
    "- Training a SpaCy pipeline with transformer-based embeddings for improved contextual understanding\n",
    "\n",
    "Each model will be assessed on performance, generalisation, and error patterns. Based on the results, further refinement of vocabulary, annotation logic, or synthetic data generation may be considered."
   ]
  }
 ],
 "metadata": {
  "kernelspec": {
   "display_name": "Python 3 (ipykernel)",
   "language": "python",
   "name": "python3"
  },
  "language_info": {
   "codemirror_mode": {
    "name": "ipython",
    "version": 3
   },
   "file_extension": ".py",
   "mimetype": "text/x-python",
   "name": "python",
   "nbconvert_exporter": "python",
   "pygments_lexer": "ipython3",
   "version": "3.12.3"
  }
 },
 "nbformat": 4,
 "nbformat_minor": 5
}
