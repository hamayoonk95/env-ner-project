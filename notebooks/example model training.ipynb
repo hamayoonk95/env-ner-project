{
 "cells": [
  {
   "cell_type": "markdown",
   "id": "c4ad1a8f-37bb-4e9f-b972-e26a70edf62f",
   "metadata": {},
   "source": [
    "# Training an example model"
   ]
  },
  {
   "cell_type": "code",
   "execution_count": null,
   "id": "3c4640de-5cbd-49b5-b094-ee1222d4c91f",
   "metadata": {},
   "outputs": [],
   "source": [
    "OUTPUT_DIR = Path(\"..\") / \"data\" / \"json\"\n",
    "VOCAB_DIR = Path(\"..\") / \"vocabularies\"\n",
    "SPACY_DIR = Path(\"..\") / \"data\" / \"spacy_data\"\n",
    "\n",
    "os.makedirs(OUTPUT_DIR, exist_ok=True)\n",
    "os.makedirs(SPACY_DIR, exist_ok=True)\n",
    "\n",
    "INPUT_FILE = OUTPUT_DIR / \"training_data.jsonl\"\n",
    "TRAIN_JSONL = SPACY_DIR / \"train.jsonl\"\n",
    "DEV_JSONL = SPACY_DIR / \"dev.jsonl\""
   ]
  },
  {
   "cell_type": "code",
   "execution_count": null,
   "id": "cec31edf-d67f-485a-b853-3f05648e38c7",
   "metadata": {},
   "outputs": [],
   "source": [
    "\n",
    "with open(INPUT_FILE, \"r\", encoding=\"utf-8\") as f:\n",
    "    all_data = [json.loads(line) for line in f if line.strip()]\n",
    "\n",
    "random.shuffle(all_data)\n",
    "\n",
    "split = int(len(all_data) * 0.9)\n",
    "train_data, dev_data = all_data[:split], all_data[split:]\n",
    "\n",
    "with open(TRAIN_JSONL, \"w\", encoding=\"utf-8\") as f:\n",
    "    for item in train_data:\n",
    "        json.dump(item, f, ensure_ascii=False)\n",
    "        f.write(\"\\n\")\n",
    "\n",
    "with open(DEV_JSONL, \"w\", encoding=\"utf-8\") as f:\n",
    "    for item in dev_data:\n",
    "        json.dump(item, f, ensure_ascii=False)\n",
    "        f.write(\"\\n\")\n",
    "\n",
    "print(f\"Saved {len(train_data)} train and {len(dev_data)} dev examples.\")\n"
   ]
  },
  {
   "cell_type": "code",
   "execution_count": null,
   "id": "8835c1be-3ec3-4204-b2bc-c5064a971a3b",
   "metadata": {},
   "outputs": [],
   "source": [
    "\n",
    "\n",
    "def convert_to_docbin(input_path, output_path, nlp):\n",
    "    doc_bin = DocBin()\n",
    "    with open(input_path, \"r\", encoding=\"utf-8\") as f:\n",
    "        for line in f:\n",
    "            item = json.loads(line)\n",
    "            doc = nlp.make_doc(item[\"text\"])\n",
    "            ents = []\n",
    "            for start, end, label in item[\"label\"]:\n",
    "                span = doc.char_span(start, end, label=label)\n",
    "                if span is not None:\n",
    "                    ents.append(span)\n",
    "            doc.ents = ents\n",
    "            doc_bin.add(doc)\n",
    "    doc_bin.to_disk(output_path)\n",
    "\n",
    "# Load blank model for tokenization\n",
    "nlp = spacy.blank(\"en\")\n",
    "\n",
    "convert_to_docbin(Path(\"../data/spacy_data/train.jsonl\"), Path(\"../data/spacy_data/train.spacy\"), nlp)\n",
    "convert_to_docbin(Path(\"../data/spacy_data/dev.jsonl\"), Path(\"../data/spacy_data/dev.spacy\"), nlp)\n",
    "\n",
    "print(\"✅ Converted to .spacy format\")\n"
   ]
  },
  {
   "cell_type": "code",
   "execution_count": null,
   "id": "8bcc8102-9e00-4784-8ef8-c1e803eb4c22",
   "metadata": {},
   "outputs": [],
   "source": [
    "!python -m spacy init config ../config.cfg --lang en --pipeline ner --optimize accuracy"
   ]
  },
  {
   "cell_type": "code",
   "execution_count": null,
   "id": "c918ab97-bb98-459d-8661-4eaa1617155b",
   "metadata": {},
   "outputs": [],
   "source": [
    "!python -m spacy train config.cfg --output models/env_ner\n"
   ]
  },
  {
   "cell_type": "code",
   "execution_count": null,
   "id": "9d15e2d5-fb49-4b44-a4d4-dfcad97ae855",
   "metadata": {},
   "outputs": [],
   "source": [
    "# Load your trained model (adjust path as needed)\n",
    "nlp = spacy.load(\"../models/env_ner/model-best\")\n",
    "\n",
    "# Long test text with mixed taxonomy terms (common + scientific)\n",
    "text = \"\"\"\n",
    "Researchers in the Galápagos Islands have observed an unusual breeding pattern in Chelonoidis hoodensis, the Española giant tortoise, within fragmented dry forest patches. This habitat is increasingly threatened by rising nitrogen oxide levels, a pollutant linked to agricultural runoff.\n",
    "\n",
    "Meanwhile, in the peat bogs of northern Scotland, the rare moss Sphagnum balticum is showing signs of resilience under fluctuating temperature gradients — a direct consequence of erratic jet stream shifts, an environmental process becoming more frequent due to Arctic warming.\n",
    "\n",
    "An alarming spike in mercury concentration was recorded in wetland fish near the Mekong delta, where biodiversity is under pressure. The riverine habitat has also experienced abnormal algal blooms — a sign of nutrient loading, which is a key measurement in eutrophication studies.\n",
    "\n",
    "In southern India, the tropical deciduous forests host a variety of mammals including the rusty-spotted cat (*Prionailurus rubiginosus*), one of the smallest wild felines, which now faces threats due to increasing particulate matter in the air. This pollutant, PM2.5, has exceeded safe thresholds in over 40% of sampled areas.\n",
    "\n",
    "Glaciologists reported that meltwater runoff from the Vatnajökull glacier has doubled in the past decade — a clear signal of accelerated cryospheric change, an environmental process linked to anthropogenic CO₂ emissions. Concurrently, the lichen *Xanthoria parietina* has colonised newly exposed rock surfaces, suggesting rapid ecological succession in formerly ice-covered zones.\n",
    "\n",
    "In a monitoring project across coral reef habitats in the Seychelles, elevated salinity and pH fluctuations were documented — measurements that correlate strongly with declining populations of *Symbiodinium*, a genus of symbiotic algae critical for coral health. Oil residues, another pollutant from passing tankers, were also found on reef sediments.\n",
    "\n",
    "A surprising comeback of the great bustard (*Otis tarda*) in steppe habitats of eastern Spain was attributed to habitat restoration programmes and reduced pesticide use. The species had previously vanished due to soil degradation — a gradual environmental process driven by overgrazing and monoculture practices.\n",
    "\"\"\"\n",
    "\n",
    "# Process the text with your model\n",
    "doc = nlp(text.lower())\n",
    "\n",
    "# Print predicted entities and their labels\n",
    "for ent in doc.ents:\n",
    "    print(f\"{ent.text} -> {ent.label_}\")\n"
   ]
  },
  {
   "cell_type": "code",
   "execution_count": null,
   "id": "eb265667-f6e5-4f11-8ed5-66fdff364fe4",
   "metadata": {},
   "outputs": [],
   "source": [
    "# Load your trained model (adjust path as needed)\n",
    "nlp = spacy.load(\"../models/env_ner/model-best\")\n",
    "\n",
    "# Long test text with mixed taxonomy terms (common + scientific)\n",
    "text = \"\"\"\n",
    "The Swiss village of Blatten has been partially destroyed after a huge chunk of glacier crashed down into the valley.\n",
    "\n",
    "Although the village had been evacuated some days ago because of fears the Birch glacier was disintegrating, one person has been reported missing, and many homes have been completely flattened.\n",
    "\n",
    "Blatten's mayor, Matthias Bellwald, said \"the unimaginable has happened\" but promised the village still had a future.\n",
    "\n",
    "Local authorities have requested support from the Swiss army's disaster relief unit and members of the Swiss government are on their way to the scene.\n",
    "\n",
    "The disaster that has befallen Blatten is the worst nightmare for communities across the Alps.\n",
    "\n",
    "The village's 300 inhabitants had to leave their homes on 19 May after geologists monitoring the area warned that the glacier appeared unstable. Now many of them may never be able to return.\n",
    "\n",
    "Appearing to fight back tears, Bellwald said: \"We have lost our village, but not our heart. We will support each other and console each other. After a long night, it will be morning again.\"\n",
    "\n",
    "The Swiss government has already promised funding to make sure residents can stay, if not in the village itself, at least in the locality.\n",
    "\n",
    "However, Raphaël Mayoraz, head of the regional office for Natural Hazards, warned that further evacuations in the areas close to Blatten might be necessary.\n",
    "\n",
    "Climate change is causing the glaciers - frozen rivers of ice - to melt faster and faster, and the permafrost, often described as the glue that holds the high mountains together, is also thawing.\n",
    "\n",
    "Drone footage showed a large section of the Birch glacier collapsing at about 15:30 (14:30 BST) on Wednesday. The avalanche of mud that swept over Blatten sounded like a deafening roar, as it swept down into the valley leaving an enormous cloud of dust.\n",
    "\n",
    "Glaciologists monitoring the thaw have warned for years that some alpine towns and villages could be at risk, and Blatten is not even the first to be evacuated.\n",
    "\n",
    "In eastern Switzerland, residents of the village of Brienz were evacuated two years ago because the mountainside above them was crumbling.\n",
    "\n",
    "Since then, they have only been permitted to return for short periods.\n",
    "\n",
    "In 2017, eight hikers were killed, and many homes destroyed, when the biggest landslide in over a century came down close to the village of Bondo.\n",
    "\n",
    "The most recent report into the condition of Switzerland's glaciers suggested they could all be gone within a century, if global temperatures could not be kept within a rise of 1.5C above pre-industrial levels, agreed ten years ago by almost 200 countries under the Paris climate accord.\n",
    "\n",
    "Many climate scientists suggest that target has already been missed, meaning the glacier thaw will continue to accelerate, increasing the risk of flooding and landslides, and threatening more communities like Blatten.\n",
    "\"\"\"\n",
    "\n",
    "\n",
    "# Process the text with your model\n",
    "doc = nlp(text.lower())\n",
    "\n",
    "# Print predicted entities and their labels\n",
    "for ent in doc.ents:\n",
    "    print(f\"{ent.text} -> {ent.label_}\")\n"
   ]
  },
  {
   "cell_type": "code",
   "execution_count": null,
   "id": "14f74178-f745-4c58-ba03-61676cf6c9ec",
   "metadata": {},
   "outputs": [],
   "source": []
  }
 ],
 "metadata": {
  "kernelspec": {
   "display_name": "Python 3 (ipykernel)",
   "language": "python",
   "name": "python3"
  },
  "language_info": {
   "codemirror_mode": {
    "name": "ipython",
    "version": 3
   },
   "file_extension": ".py",
   "mimetype": "text/x-python",
   "name": "python",
   "nbconvert_exporter": "python",
   "pygments_lexer": "ipython3",
   "version": "3.12.3"
  }
 },
 "nbformat": 4,
 "nbformat_minor": 5
}
